{
  "nbformat": 4,
  "nbformat_minor": 0,
  "metadata": {
    "colab": {
      "name": "Untitled1.ipynb",
      "provenance": [],
      "include_colab_link": true
    },
    "kernelspec": {
      "name": "python3",
      "display_name": "Python 3"
    }
  },
  "cells": [
    {
      "cell_type": "markdown",
      "metadata": {
        "id": "view-in-github",
        "colab_type": "text"
      },
      "source": [
        "<a href=\"https://colab.research.google.com/github/01FE16BME072/TensorflowBasics/blob/master/Pandas.ipynb\" target=\"_parent\"><img src=\"https://colab.research.google.com/assets/colab-badge.svg\" alt=\"Open In Colab\"/></a>"
      ]
    },
    {
      "cell_type": "markdown",
      "metadata": {
        "id": "_sulrz3ltdji",
        "colab_type": "text"
      },
      "source": [
        "<h1><center>Pandas Practice</center></h1>"
      ]
    },
    {
      "cell_type": "markdown",
      "metadata": {
        "id": "9HXvi174tw3C",
        "colab_type": "text"
      },
      "source": [
        "<h4> Here we will learn about the <b> Pandas </b> framework used for the data Analysis purpose.Using pandas we can accomplish mainly five steps they are:\n",
        "  <list>\n",
        "  <li><b>Load</b></li>\n",
        "  <li><b>Manipulate</b></li>\n",
        "  <li><b>Prepare</b></li>\n",
        "  <li><b>Model</b></li>\n",
        "  <li><b>Analyze</b></li>\n",
        "  </list>\n",
        "Python with pandas is used in wide range of areas like <span><b>Finance,Ecommerce,Education,Statistics,Analytics</b>..etc</span>\n",
        "</h4>\n",
        "<i>Main Advantages of using pandas framework is:\n",
        "<list>\n",
        "<li>Fast and efficient DataFrame object with default and customized indexing</li>\n",
        "<li>Tools for loading data into in-memory data objects from different file format<li>\n",
        "<li>Data alignment and integrated handling of missing data</li>\n",
        "<li>Reshaping and pivoting of data sets</li>\n",
        "<li>Label-based slicing,indexing and subsetting of large data sets</li>\n",
        "<li>Columns from the datastructure(dataframe) can be deleted or inserted</li>\n",
        "<li>GroupBy data for aggregation and transformations</li>\n",
        "<li>High performance merging and joining of data</li>\n",
        "<li>Time Series functionality</li> \n"
      ]
    },
    {
      "cell_type": "markdown",
      "metadata": {
        "id": "pvaITHaMxdeN",
        "colab_type": "text"
      },
      "source": [
        "<h2><center><b>Pandas Installation</b></center></h2>\n",
        "<p>We can do the pandas installation in Windows using pip command if no IDLE is being used an basic python version is downloaded then open the cmd and run this command</p>\n",
        "<center><i>> pip install <span color='green'>pandas</span></i></center>\n",
        "<p>But where as if we are using Anaconda then we don't require to download as it comes with this framework and many more other frameworks required for Data Analytics purpose</p>\n",
        "\n",
        "<i><b>Now let's import this library for doing some Analytics </b></i>\n"
      ]
    },
    {
      "cell_type": "code",
      "metadata": {
        "id": "IaEGWcrexaRK",
        "colab_type": "code",
        "colab": {}
      },
      "source": [
        "import pandas as pd #This is the import statement,now the library can be used."
      ],
      "execution_count": 0,
      "outputs": []
    },
    {
      "cell_type": "markdown",
      "metadata": {
        "id": "HhPRyUOI0cZM",
        "colab_type": "text"
      },
      "source": [
        "<b><h2><center>Pandas's DataStructure</center><h2></b>\n",
        "<p>The Main three categories of pandas datastructure is:</p>\n",
        "<p>\n",
        "<list>\n",
        "<li>Series</li>\n",
        "<li>Dataframe</li>\n",
        "<li>Panel</li>\n",
        "</p>\n",
        "\n",
        "<p>These datastructures are built on top of the numpy array,which means they are fast</p>\n",
        "\n",
        "<h3><b><u>Dimensions and Datastructure</u>:</b></h3>\n",
        "<p>The best way of to think of this datastructure is to think that every higher datastructure is the container of the lower datastructure.</p>\n",
        "All pandas data structure are value mutable,in terms of size except Series everything is mutable.Most Widely used datastructure is the dataframe one,as it similar to the file structure\n",
        "\n",
        "For example:dataframe is a container of series similarly panel is nothing but constitution of the dataframe(that is panel is a container of dataframe)\n",
        "\n",
        "|DataStructure|Dimension|Description                                |\n",
        "|-------------|---------|-------------------------------------------|\n",
        "|Series|1|<center>1D labeled homogeneous array,size immutable</center>|\n",
        "|Pandas|2|<center>General 2D labeled, size-mutable tabular structure with potentially heterogeneously typed columns.</center>|\n",
        "|Panel|3|<center>General 3D labeled, size-mutable array.</center>|\n",
        "<h4><b>With the help of Pandas datastructure,the mental effort of the user is reduced</b></h4>\n"
      ]
    },
    {
      "cell_type": "markdown",
      "metadata": {
        "id": "l8y7eUmq3Lyr",
        "colab_type": "text"
      },
      "source": [
        ""
      ]
    },
    {
      "cell_type": "code",
      "metadata": {
        "id": "5Fg9psJj3Nb9",
        "colab_type": "code",
        "colab": {}
      },
      "source": [
        ""
      ],
      "execution_count": 0,
      "outputs": []
    }
  ]
}